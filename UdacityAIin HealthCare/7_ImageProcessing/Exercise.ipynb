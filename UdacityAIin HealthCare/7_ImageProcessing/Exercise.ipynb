{
 "cells": [
  {
   "cell_type": "code",
   "execution_count": null,
   "metadata": {},
   "outputs": [],
   "source": [
    "import numpy as np \n",
    "import pandas as pd \n",
    "import os\n",
    "from glob import glob\n",
    "%matplotlib inline\n",
    "import matplotlib.pyplot as plt\n",
    "import tensorflow as tf\n",
    "from skimage import io\n",
    "\n",
    "from keras.preprocessing.image import ImageDataGenerator"
   ]
  },
  {
   "cell_type": "code",
   "execution_count": null,
   "metadata": {},
   "outputs": [],
   "source": [
    "df = pd.read_csv('paths_and_labels.csv')"
   ]
  },
  {
   "cell_type": "code",
   "execution_count": null,
   "metadata": {},
   "outputs": [],
   "source": [
    "df.head()"
   ]
  },
  {
   "cell_type": "code",
   "execution_count": null,
   "metadata": {},
   "outputs": [],
   "source": [
    "df.img_path[0]"
   ]
  },
  {
   "cell_type": "markdown",
   "metadata": {},
   "source": [
    "## First, let's look at what our plan images look like:"
   ]
  },
  {
   "cell_type": "code",
   "execution_count": null,
   "metadata": {},
   "outputs": [],
   "source": [
    "fig, m_axs = plt.subplots(5,4, figsize = (16, 16))\n",
    "m_axs = m_axs.flatten()\n",
    "imgs = df.img_path\n",
    "ind=0\n",
    "\n",
    "for img, ax in zip(imgs, m_axs):\n",
    "    img = io.imread(img)\n",
    "    ax.imshow(img,cmap='gray')\n",
    "    ax.set_title(df.iloc[ind]['class'])\n",
    "    ind=ind+1"
   ]
  },
  {
   "cell_type": "code",
   "execution_count": null,
   "metadata": {},
   "outputs": [],
   "source": [
    "## you can choose an image size to resize your images to during augmentation, which comes in handy later when you\n",
    "## want to do deep learning using a pre-trained CNN that has a specified size input layer\n",
    "IMG_SIZE = (224, 224)"
   ]
  },
  {
   "cell_type": "markdown",
   "metadata": {},
   "source": [
    "## Below, you will alter the values of the parameters that you pass to ImageDataGenerator. The following cell, you'll display what your augmented images look like. \n",
    "\n",
    "#### Play around with different values for the parameters, running the visualization cell below each time to see how these parameters change the appearance of your augmented data. Make some conclusions about what sorts of values might or might not be appropriate for medical imaging based on what you might see in the real world. You can look at the ImageDataGenerator documentation in Keras to add other parameters as well. \n",
    "\n",
    "* horizontal_flip and vertical_flip should be set to True/False\n",
    "* height_shift_range and width_shift_range should be between 0 and 1\n",
    "* rotation_range can be between 0 and 180\n",
    "* shear_range can be between 0 and 1\n",
    "* zoom_range can be between 0 and 1"
   ]
  },
  {
   "cell_type": "code",
   "execution_count": null,
   "metadata": {},
   "outputs": [],
   "source": [
    "idg = ImageDataGenerator(rescale=1. / 255.0,\n",
    "                              #horizontal_flip = , \n",
    "                              #vertical_flip = , \n",
    "                              #height_shift_range = , \n",
    "                              #width_shift_range = , \n",
    "                              #rotation_range = , \n",
    "                              #shear_range = ,\n",
    "                              #zoom_range=\n",
    "                        )\n",
    "\n",
    "gen = idg.flow_from_dataframe(dataframe=df, \n",
    "                                         directory=None, \n",
    "                                         x_col = 'img_path',\n",
    "                                         y_col = 'class',\n",
    "                                         class_mode = 'binary',\n",
    "                                         target_size = IMG_SIZE, \n",
    "                                         batch_size = 9\n",
    "                                         )"
   ]
  },
  {
   "cell_type": "code",
   "execution_count": null,
   "metadata": {},
   "outputs": [],
   "source": [
    "## Look at some examples of our augmented training data. \n",
    "## This is helpful for understanding the extent to which data is being manipulated prior to training, and can be compared\n",
    "## With how the raw data look prior to augmentation\n",
    "t_x, t_y = next(gen)\n",
    "fig, m_axs = plt.subplots(3, 3, figsize = (8, 8))\n",
    "for (c_x, c_y, c_ax) in zip(t_x, t_y, m_axs.flatten()):\n",
    "    c_ax.imshow(c_x[:,:,0], cmap = 'bone')\n",
    "    if c_y == 1: \n",
    "        c_ax.set_title('fatty')\n",
    "    else:\n",
    "        c_ax.set_title('dense')\n",
    "    c_ax.axis('off')"
   ]
  },
  {
   "cell_type": "code",
   "execution_count": null,
   "metadata": {},
   "outputs": [],
   "source": []
  }
 ],
 "metadata": {
  "kernelspec": {
   "display_name": "Python 3",
   "language": "python",
   "name": "python3"
  },
  "language_info": {
   "codemirror_mode": {
    "name": "ipython",
    "version": 3
   },
   "file_extension": ".py",
   "mimetype": "text/x-python",
   "name": "python",
   "nbconvert_exporter": "python",
   "pygments_lexer": "ipython3",
   "version": "3.7.6"
  }
 },
 "nbformat": 4,
 "nbformat_minor": 2
}
